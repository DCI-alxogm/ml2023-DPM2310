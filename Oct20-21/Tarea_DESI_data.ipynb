{
  "nbformat": 4,
  "nbformat_minor": 0,
  "metadata": {
    "colab": {
      "provenance": [],
      "authorship_tag": "ABX9TyM4S8E1WA4s5WtjrNUPSWmu",
      "include_colab_link": true
    },
    "kernelspec": {
      "name": "python3",
      "display_name": "Python 3"
    },
    "language_info": {
      "name": "python"
    }
  },
  "cells": [
    {
      "cell_type": "markdown",
      "metadata": {
        "id": "view-in-github",
        "colab_type": "text"
      },
      "source": [
        "<a href=\"https://colab.research.google.com/github/DCI-alxogm/ml2023-DPM2310/blob/main/Oct20-21/Tarea_DESI_data.ipynb\" target=\"_parent\"><img src=\"https://colab.research.google.com/assets/colab-badge.svg\" alt=\"Open In Colab\"/></a>"
      ]
    },
    {
      "cell_type": "markdown",
      "source": [
        "Utilizando el notebook https://colab.research.google.com/drive/1Ht-in9PN4glCRIiXOJhzAFjFD8vwb3c5?usp=sharing, ejecutalo y realiza las actividades que se marcan como ejercicio.\n",
        "\n",
        "Nota que en el notebook las instrucciones se realizan para 1 solo archivo de los que puedes encontrar en teams, pero una vez que tu código funcione para 1 archivo deberás intentar generalizarlo para que funcione colectando la información de todos los archivos disponibles."
      ],
      "metadata": {
        "id": "s6wG88OEPWkc"
      }
    },
    {
      "cell_type": "code",
      "execution_count": 2,
      "metadata": {
        "id": "hs6jtgBsPAjs"
      },
      "outputs": [],
      "source": [
        "import numpy as np"
      ]
    }
  ]
}