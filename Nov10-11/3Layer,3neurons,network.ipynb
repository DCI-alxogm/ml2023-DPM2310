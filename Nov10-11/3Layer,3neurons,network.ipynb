{
  "nbformat": 4,
  "nbformat_minor": 0,
  "metadata": {
    "colab": {
      "provenance": [],
      "authorship_tag": "ABX9TyMhfDrqX1FsfZ2Bdeqbf20Z",
      "include_colab_link": true
    },
    "kernelspec": {
      "name": "python3",
      "display_name": "Python 3"
    },
    "language_info": {
      "name": "python"
    }
  },
  "cells": [
    {
      "cell_type": "markdown",
      "metadata": {
        "id": "view-in-github",
        "colab_type": "text"
      },
      "source": [
        "<a href=\"https://colab.research.google.com/github/DCI-alxogm/ml2023-DPM2310/blob/main/Nov10-11/3Layer%2C3neurons%2Cnetwork.ipynb\" target=\"_parent\"><img src=\"https://colab.research.google.com/assets/colab-badge.svg\" alt=\"Open In Colab\"/></a>"
      ]
    },
    {
      "cell_type": "markdown",
      "source": [
        "* Programa el método de \"forward\" propagation para una red neuronal de 3 capas, con 2 neuronas en la primera capa oculta, y 1 en la capa de salida. Usa la función de activación sigmoide en todas las neuronas. Usa el código para hacer una primera predicción usando el conjunto de datos de perros y gatos.\n",
        "\n",
        "* Nota que no se pide realizar la optimización de los pesos (\"backward propagation\"), es decir solo se requiere hacer una iteración."
      ],
      "metadata": {
        "id": "cnlmXsAI9Gk7"
      }
    },
    {
      "cell_type": "code",
      "execution_count": 2,
      "metadata": {
        "id": "WQ4mxtRr89Rh"
      },
      "outputs": [],
      "source": [
        "import numpy as np"
      ]
    }
  ]
}