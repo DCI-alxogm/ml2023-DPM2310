{
  "nbformat": 4,
  "nbformat_minor": 0,
  "metadata": {
    "colab": {
      "provenance": [],
      "authorship_tag": "ABX9TyPI5hWmLenbjfE7gnYpyS9v",
      "include_colab_link": true
    },
    "kernelspec": {
      "name": "python3",
      "display_name": "Python 3"
    },
    "language_info": {
      "name": "python"
    }
  },
  "cells": [
    {
      "cell_type": "markdown",
      "metadata": {
        "id": "view-in-github",
        "colab_type": "text"
      },
      "source": [
        "<a href=\"https://colab.research.google.com/github/DCI-alxogm/ml2023-DPM2310/blob/main/Nov10-11/3Layer%2C3neurons%2Cnetwork.ipynb\" target=\"_parent\"><img src=\"https://colab.research.google.com/assets/colab-badge.svg\" alt=\"Open In Colab\"/></a>"
      ]
    },
    {
      "cell_type": "markdown",
      "source": [
        "* Programa el método de \"forward\" propagation para una red neuronal de 3 capas, con 2 neuronas en la primera capa oculta, y 1 en la capa de salida. Usa la función de activación sigmoide en todas las neuronas. Usa el código para hacer una primera predicción usando el conjunto de datos de perros y gatos.\n",
        "\n",
        "* Nota que no se pide realizar la optimización de los pesos (\"backward propagation\"), es decir solo se requiere hacer una iteración."
      ],
      "metadata": {
        "id": "cnlmXsAI9Gk7"
      }
    },
    {
      "cell_type": "code",
      "execution_count": 1,
      "metadata": {
        "id": "WQ4mxtRr89Rh"
      },
      "outputs": [],
      "source": [
        "import glob\n",
        "import numpy as np\n",
        "import copy\n",
        "import matplotlib.pyplot as plt\n",
        "import h5py\n",
        "import scipy\n",
        "from PIL import Image\n",
        "from scipy import ndimage\n",
        "\n",
        "%matplotlib inline"
      ]
    },
    {
      "cell_type": "code",
      "source": [
        "from google.colab import drive\n",
        "drive.mount('/content/drive')"
      ],
      "metadata": {
        "colab": {
          "base_uri": "https://localhost:8080/"
        },
        "id": "SSQIbtZPbCo-",
        "outputId": "e9ec5ef2-6181-42d4-b7fb-91751b026169"
      },
      "execution_count": 2,
      "outputs": [
        {
          "output_type": "stream",
          "name": "stdout",
          "text": [
            "Mounted at /content/drive\n"
          ]
        }
      ]
    },
    {
      "cell_type": "markdown",
      "source": [
        "Cargamos los datos que vamos a trabajar."
      ],
      "metadata": {
        "id": "oCPruW1UbLha"
      }
    },
    {
      "cell_type": "code",
      "source": [
        "#Los datos corresponden a un subset del dataset cats vs dogs de https://www.kaggle.com/c/dogs-vs-cats\n",
        "files = glob.glob('/content/drive/MyDrive/Machine Learning/Data/CATS_DOGS/*')"
      ],
      "metadata": {
        "id": "cVPPO69jbHrk"
      },
      "execution_count": 3,
      "outputs": []
    },
    {
      "cell_type": "code",
      "source": [
        "len(files)"
      ],
      "metadata": {
        "colab": {
          "base_uri": "https://localhost:8080/"
        },
        "id": "nlH2SZc1bO9e",
        "outputId": "f46df6c6-bb3b-464d-916e-cc98595813fc"
      },
      "execution_count": 4,
      "outputs": [
        {
          "output_type": "execute_result",
          "data": {
            "text/plain": [
              "1787"
            ]
          },
          "metadata": {},
          "execution_count": 4
        }
      ]
    },
    {
      "cell_type": "code",
      "source": [
        "# Numero de pixeles para nuestras imágenes.\n",
        "num_px=64"
      ],
      "metadata": {
        "id": "XQzalZ4PbRXO"
      },
      "execution_count": 5,
      "outputs": []
    },
    {
      "cell_type": "markdown",
      "source": [
        "Veamos algunas de las imagenes.\n",
        "\n",
        "Preparamos el dataset de entrenamiento."
      ],
      "metadata": {
        "id": "4GhEwGWtbVgD"
      }
    },
    {
      "cell_type": "code",
      "source": [
        "train_x = []\n",
        "train_y = []\n",
        "for file in files[:835]:\n",
        "    img = Image.open(file)\n",
        "    img = img.resize((num_px,num_px))\n",
        "    data = np.asarray(img)\n",
        "    train_x.append(data)\n",
        "    img.close()\n",
        "    if 'dog' in file:\n",
        "        train_y.append(1)\n",
        "    if 'cat' in file:\n",
        "        train_y.append(0)\n",
        "train_y = np.asarray(train_y)\n",
        "train_x = np.asarray(train_x)"
      ],
      "metadata": {
        "id": "DK9K8plmbTDN"
      },
      "execution_count": 6,
      "outputs": []
    },
    {
      "cell_type": "code",
      "source": [
        "plt.imshow(train_x[0])"
      ],
      "metadata": {
        "colab": {
          "base_uri": "https://localhost:8080/",
          "height": 449
        },
        "id": "3D8UlwCAbYrp",
        "outputId": "278fee1e-fa96-4555-c619-2f248caccddf"
      },
      "execution_count": 7,
      "outputs": [
        {
          "output_type": "execute_result",
          "data": {
            "text/plain": [
              "<matplotlib.image.AxesImage at 0x786f45f4e080>"
            ]
          },
          "metadata": {},
          "execution_count": 7
        },
        {
          "output_type": "display_data",
          "data": {
            "text/plain": [
              "<Figure size 640x480 with 1 Axes>"
            ],
            "image/png": "[encoded data removed]"
          },
          "metadata": {}
        }
      ]
    },
    {
      "cell_type": "markdown",
      "source": [
        "Preparamos el dataset de prueba."
      ],
      "metadata": {
        "id": "kIma5w4PbdGB"
      }
    },
    {
      "cell_type": "code",
      "source": [
        "test_x = []\n",
        "test_y = []\n",
        "for file in files[835:]:\n",
        "    #print(file)\n",
        "    img = Image.open(file)\n",
        "    img = img.resize((num_px,num_px))\n",
        "    data = np.asarray(img)\n",
        "    test_x.append(data)\n",
        "    img.close()\n",
        "    if 'dog' in file:\n",
        "        test_y.append(1)\n",
        "    if 'cat' in file:\n",
        "        test_y.append(0)\n",
        "test_y = np.asarray(test_y)\n",
        "test_x = np.asarray(test_x)"
      ],
      "metadata": {
        "id": "QVA-0t6_babG"
      },
      "execution_count": 8,
      "outputs": []
    },
    {
      "cell_type": "code",
      "source": [
        "plt.imshow(test_x[1])"
      ],
      "metadata": {
        "colab": {
          "base_uri": "https://localhost:8080/",
          "height": 449
        },
        "id": "oh-q26rubfgD",
        "outputId": "3fd418f9-ed6c-4dad-897f-70514043c95a"
      },
      "execution_count": 9,
      "outputs": [
        {
          "output_type": "execute_result",
          "data": {
            "text/plain": [
              "<matplotlib.image.AxesImage at 0x786f43494f40>"
            ]
          },
          "metadata": {},
          "execution_count": 9
        },
        {
          "output_type": "display_data",
          "data": {
            "text/plain": [
              "<Figure size 640x480 with 1 Axes>"
            ],
            "image/png": "[encoded data removed]"
          },
          "metadata": {}
        }
      ]
    },
    {
      "cell_type": "markdown",
      "source": [
        "Hacemos una transformación de los arreglos que contienen las imagenes para que sean arreglos de una dimensión."
      ],
      "metadata": {
        "id": "Jy5_RnE0bkqz"
      }
    },
    {
      "cell_type": "code",
      "source": [
        "train_x_flatten = train_x.reshape(train_x.shape[0], -1).T\n",
        "\n",
        "test_x_flatten = test_x.reshape(test_x.shape[0], -1).T\n",
        "\n",
        "train_set_y=train_y.reshape((1,train_y.shape[0]))\n",
        "test_set_y=test_y.reshape((1,test_y.shape[0]))"
      ],
      "metadata": {
        "id": "Fu-ww1X6bmc3"
      },
      "execution_count": 10,
      "outputs": []
    },
    {
      "cell_type": "markdown",
      "source": [
        "Normalizamos las imágenes."
      ],
      "metadata": {
        "id": "0v-68YXXbsxS"
      }
    },
    {
      "cell_type": "code",
      "source": [
        "train_set_x= train_x_flatten/255\n",
        "test_set_x= test_x_flatten/255"
      ],
      "metadata": {
        "id": "DtvOtLi-buOQ"
      },
      "execution_count": 11,
      "outputs": []
    },
    {
      "cell_type": "markdown",
      "source": [
        "Ya esta listo nuestro set de datos para poder trabajar con el."
      ],
      "metadata": {
        "id": "ZXlusVfnb0jE"
      }
    },
    {
      "cell_type": "code",
      "source": [
        "def sigmoid(z):\n",
        "    return 1 / (1 + np.exp(-z))\n",
        "\n",
        "def forward_propagation(W1, b1, W2, b2, X):\n",
        "    Z1 = np.dot(W1, X) + b1\n",
        "    A1 = sigmoid(Z1)\n",
        "    # Ambas neuronas de la capa oculta reciben la misma entrada\n",
        "    A1_1 = A1[0, :]\n",
        "    A1_2 = A1[1, :]\n",
        "    Z2 = np.array([A1_1, A1_2])  # Salidas de las neuronas de la capa oculta\n",
        "    A2 = sigmoid(np.dot(W2, Z2) + b2)  # Salida de la capa de salida\n",
        "    return A2\n",
        "\n",
        "# Inicialización de parámetros\n",
        "input_size = num_px * num_px * 3\n",
        "hidden_size = 2\n",
        "output_size = 1\n",
        "\n",
        "W1 = np.random.randn(hidden_size, input_size) * 0.01\n",
        "b1 = np.zeros((hidden_size, 1))\n",
        "W2 = np.random.randn(output_size, hidden_size) * 0.01\n",
        "b2 = np.zeros((output_size, 1))\n",
        "\n",
        "# Forward propagation\n",
        "predictions = forward_propagation(W1, b1, W2, b2, train_set_x)\n",
        "\n",
        "# Visualizar algunas predicciones\n",
        "for i in range(5):\n",
        "    print(\"Predicción:\", predictions[0, i], \"Etiqueta verdadera:\", train_set_y[0, i])"
      ],
      "metadata": {
        "colab": {
          "base_uri": "https://localhost:8080/"
        },
        "id": "Y8ZYwwWsb2lz",
        "outputId": "ccbb7f82-704e-4c32-8bf7-1c11fa3d9b45"
      },
      "execution_count": 21,
      "outputs": [
        {
          "output_type": "stream",
          "name": "stdout",
          "text": [
            "Predicción: 0.5010592431423097 Etiqueta verdadera: 0\n",
            "Predicción: 0.5009625683994392 Etiqueta verdadera: 0\n",
            "Predicción: 0.5011920739421464 Etiqueta verdadera: 0\n",
            "Predicción: 0.5009188709389801 Etiqueta verdadera: 0\n",
            "Predicción: 0.5011127209554138 Etiqueta verdadera: 0\n"
          ]
        }
      ]
    },
    {
      "cell_type": "code",
      "source": [
        "predictions"
      ],
      "metadata": {
        "colab": {
          "base_uri": "https://localhost:8080/"
        },
        "id": "rpVQ3aqicc2Q",
        "outputId": "d02938a9-a44d-452a-df17-61de9135aa0a"
      },
      "execution_count": 22,
      "outputs": [
        {
          "output_type": "execute_result",
          "data": {
            "text/plain": [
              "array([[0.50105924, 0.50096257, 0.50119207, 0.50091887, 0.50111272,\n",
              "        0.50110436, 0.50086967, 0.50105568, 0.50083548, 0.50117303,\n",
              "        0.5011285 , 0.50113149, 0.50107126, 0.50105633, 0.50115959,\n",
              "        0.50117366, 0.50099066, 0.50103653, 0.50102219, 0.50098551,\n",
              "        0.50107331, 0.50100971, 0.50106296, 0.50108815, 0.50115794,\n",
              "        0.50091642, 0.501073  , 0.50098253, 0.5011088 , 0.50114049,\n",
              "        0.50105222, 0.50123405, 0.50100136, 0.50114067, 0.50088919,\n",
              "        0.50096316, 0.50102028, 0.50091522, 0.50122152, 0.50101976,\n",
              "        0.50114122, 0.50094255, 0.50104276, 0.50099275, 0.50098717,\n",
              "        0.50113979, 0.50109591, 0.50104625, 0.50111572, 0.5012215 ,\n",
              "        0.5011422 , 0.50097636, 0.50101411, 0.50108161, 0.50106301,\n",
              "        0.50105638, 0.50105572, 0.50096559, 0.50106127, 0.50106177,\n",
              "        0.5010407 , 0.50089276, 0.50113324, 0.50112156, 0.50105734,\n",
              "        0.50107788, 0.50100742, 0.50111195, 0.50114868, 0.50114368,\n",
              "        0.50121214, 0.50115988, 0.50099029, 0.50111734, 0.50109383,\n",
              "        0.50117253, 0.50117522, 0.50095912, 0.50116187, 0.50100349,\n",
              "        0.50083606, 0.5012146 , 0.50118737, 0.50097256, 0.50088199,\n",
              "        0.50113166, 0.50123135, 0.50112742, 0.5008947 , 0.50110808,\n",
              "        0.50116468, 0.50105692, 0.50107138, 0.5009027 , 0.50109143,\n",
              "        0.50122182, 0.50100686, 0.50106655, 0.50101274, 0.50123615,\n",
              "        0.50122614, 0.5009658 , 0.50112307, 0.50117121, 0.50098854,\n",
              "        0.5012564 , 0.50113366, 0.5010638 , 0.50116875, 0.50102834,\n",
              "        0.50121159, 0.50105533, 0.50111518, 0.50093221, 0.5011823 ,\n",
              "        0.50107865, 0.5011532 , 0.50108599, 0.5012211 , 0.50101873,\n",
              "        0.50107722, 0.50085448, 0.50105488, 0.50116279, 0.50086881,\n",
              "        0.50102257, 0.50107885, 0.50094289, 0.50113121, 0.50088514,\n",
              "        0.50100009, 0.50101486, 0.50097452, 0.50092547, 0.50107061,\n",
              "        0.5011379 , 0.50104993, 0.50092913, 0.50101485, 0.50100735,\n",
              "        0.50097833, 0.50089907, 0.50114368, 0.50104638, 0.5010618 ,\n",
              "        0.50103057, 0.5009719 , 0.50088385, 0.5012335 , 0.50101446,\n",
              "        0.50112916, 0.50109171, 0.50105897, 0.50103526, 0.50105323,\n",
              "        0.50109475, 0.50113424, 0.50111169, 0.50118413, 0.50119665,\n",
              "        0.50102503, 0.50105579, 0.50100273, 0.50111946, 0.50126694,\n",
              "        0.50115749, 0.50081409, 0.50104542, 0.50096065, 0.50094744,\n",
              "        0.50115048, 0.50104843, 0.50112083, 0.50122355, 0.5012097 ,\n",
              "        0.5010235 , 0.50095543, 0.5010472 , 0.50115676, 0.50099215,\n",
              "        0.50097727, 0.50104965, 0.50103333, 0.5010963 , 0.50118955,\n",
              "        0.50108559, 0.50107764, 0.50131731, 0.50090572, 0.50103104,\n",
              "        0.50109835, 0.50095224, 0.50107016, 0.50123117, 0.50114381,\n",
              "        0.5011043 , 0.50100369, 0.50109407, 0.50097481, 0.50112856,\n",
              "        0.50109063, 0.50112844, 0.50103737, 0.50099174, 0.50104577,\n",
              "        0.50121687, 0.50115103, 0.50116544, 0.50094837, 0.50092268,\n",
              "        0.50106541, 0.50112791, 0.50125478, 0.50092113, 0.50099236,\n",
              "        0.50107502, 0.50089659, 0.50113752, 0.50114455, 0.50117453,\n",
              "        0.50120199, 0.50110112, 0.50103999, 0.50111942, 0.50109502,\n",
              "        0.50098026, 0.50115902, 0.50120159, 0.50124401, 0.50095815,\n",
              "        0.50108692, 0.50110282, 0.50093273, 0.50106956, 0.50119708,\n",
              "        0.50081358, 0.50101687, 0.50111025, 0.50094044, 0.50106576,\n",
              "        0.50102337, 0.50116091, 0.50107557, 0.50094104, 0.50100194,\n",
              "        0.50108322, 0.50104483, 0.50116829, 0.5011814 , 0.50124111,\n",
              "        0.50113792, 0.50099422, 0.50103037, 0.5010917 , 0.5011979 ,\n",
              "        0.50122297, 0.50094682, 0.50104473, 0.50110801, 0.50100634,\n",
              "        0.50092746, 0.50095606, 0.50111296, 0.50119823, 0.50102969,\n",
              "        0.50102112, 0.50110073, 0.50122485, 0.50109446, 0.50114525,\n",
              "        0.50097708, 0.50112032, 0.50110741, 0.50109195, 0.50086782,\n",
              "        0.50095598, 0.50104162, 0.50100268, 0.50105155, 0.50108534,\n",
              "        0.50110649, 0.50106187, 0.50108033, 0.50121297, 0.5010613 ,\n",
              "        0.50116507, 0.50102471, 0.50095478, 0.50087437, 0.50103852,\n",
              "        0.50108479, 0.50120902, 0.50102197, 0.50095773, 0.50093834,\n",
              "        0.50118936, 0.50112755, 0.50100394, 0.50107457, 0.50105312,\n",
              "        0.5010771 , 0.50112224, 0.50117225, 0.50123099, 0.5010333 ,\n",
              "        0.50105115, 0.50105135, 0.50105537, 0.50102527, 0.50107566,\n",
              "        0.50101509, 0.50093278, 0.50108481, 0.50102931, 0.50116141,\n",
              "        0.50121721, 0.50106892, 0.5010144 , 0.50109365, 0.50122414,\n",
              "        0.50111424, 0.50098672, 0.50100921, 0.50092879, 0.50093119,\n",
              "        0.50111603, 0.50105166, 0.50109373, 0.50090659, 0.50109398,\n",
              "        0.50111491, 0.50117234, 0.50089437, 0.50112381, 0.50101478,\n",
              "        0.50094517, 0.50117969, 0.50100072, 0.50116015, 0.50117283,\n",
              "        0.50120492, 0.50111116, 0.50106863, 0.50105686, 0.50107289,\n",
              "        0.50097823, 0.50098156, 0.50109259, 0.50103486, 0.50092164,\n",
              "        0.50104083, 0.50123365, 0.50089293, 0.50096846, 0.50109588,\n",
              "        0.50101187, 0.50099355, 0.50100522, 0.50104175, 0.50091073,\n",
              "        0.50096896, 0.50118029, 0.50101488, 0.50101697, 0.50104725,\n",
              "        0.5010558 , 0.5010932 , 0.50106833, 0.50101296, 0.50110014,\n",
              "        0.50103867, 0.50105906, 0.50107169, 0.50110272, 0.50074822,\n",
              "        0.50106771, 0.50110504, 0.50109412, 0.50101708, 0.50122607,\n",
              "        0.50106144, 0.50113625, 0.50111433, 0.50107097, 0.50112039,\n",
              "        0.50099515, 0.50109275, 0.50106173, 0.50123862, 0.50107032,\n",
              "        0.50100795, 0.50110782, 0.50080337, 0.50114053, 0.50113919,\n",
              "        0.5010536 , 0.50111573, 0.50107719, 0.5009252 , 0.50115116,\n",
              "        0.5011366 , 0.50105647, 0.50089262, 0.50129536, 0.50113142,\n",
              "        0.50112235, 0.50103177, 0.50114162, 0.5011206 , 0.50093132,\n",
              "        0.50093956, 0.50107228, 0.50087643, 0.50113007, 0.50120119,\n",
              "        0.50109285, 0.50087813, 0.50093596, 0.50117483, 0.50097496,\n",
              "        0.50105351, 0.50106853, 0.50119849, 0.50106354, 0.50110319,\n",
              "        0.50110001, 0.50107931, 0.50100459, 0.50107904, 0.5009052 ,\n",
              "        0.50102199, 0.50102429, 0.50112417, 0.5008739 , 0.50118619,\n",
              "        0.50103763, 0.50125449, 0.50103591, 0.500968  , 0.50108366,\n",
              "        0.50087559, 0.50094161, 0.50112593, 0.50106221, 0.50108993,\n",
              "        0.50100472, 0.50100077, 0.50106445, 0.50114933, 0.50098441,\n",
              "        0.5010899 , 0.50119328, 0.50097111, 0.50102197, 0.50110057,\n",
              "        0.50110437, 0.5010153 , 0.50125953, 0.5011317 , 0.50109677,\n",
              "        0.50118485, 0.50116625, 0.50103223, 0.50116153, 0.50110077,\n",
              "        0.50103133, 0.50109917, 0.50120008, 0.50105487, 0.50106269,\n",
              "        0.50122467, 0.50112076, 0.50101516, 0.50117761, 0.50103828,\n",
              "        0.50121874, 0.50111971, 0.50108687, 0.50100513, 0.50113159,\n",
              "        0.501066  , 0.50111472, 0.5010982 , 0.50100006, 0.50127346,\n",
              "        0.50113805, 0.50115134, 0.50117197, 0.50096889, 0.50101742,\n",
              "        0.50106848, 0.50110469, 0.50119427, 0.50108242, 0.50113633,\n",
              "        0.50109018, 0.5009706 , 0.50115023, 0.50111517, 0.50107717,\n",
              "        0.50104112, 0.50091231, 0.50113884, 0.50109098, 0.50120529,\n",
              "        0.50088589, 0.50099351, 0.50102737, 0.50111573, 0.50111905,\n",
              "        0.50105297, 0.50107005, 0.50125757, 0.50122985, 0.50098985,\n",
              "        0.50109096, 0.50098327, 0.50105637, 0.5010629 , 0.50095813,\n",
              "        0.50103933, 0.50089896, 0.5011365 , 0.50110398, 0.50103107,\n",
              "        0.50114899, 0.50113152, 0.50117477, 0.50088645, 0.50104898,\n",
              "        0.50106351, 0.50117202, 0.50119207, 0.50119844, 0.50121472,\n",
              "        0.50113139, 0.50113825, 0.50120316, 0.50122052, 0.50104585,\n",
              "        0.50113806, 0.50101704, 0.50084645, 0.50117947, 0.50106499,\n",
              "        0.50108416, 0.50099173, 0.50103889, 0.50096925, 0.50105966,\n",
              "        0.50128648, 0.50127337, 0.50096469, 0.50105805, 0.50106739,\n",
              "        0.50104575, 0.50103109, 0.50113071, 0.50106911, 0.50110985,\n",
              "        0.50094352, 0.50104546, 0.50114795, 0.50106917, 0.50101712,\n",
              "        0.50110675, 0.50105382, 0.50095213, 0.50111326, 0.50100675,\n",
              "        0.50110497, 0.50107663, 0.50103775, 0.50114826, 0.50097441,\n",
              "        0.50105365, 0.50097133, 0.50108721, 0.50099003, 0.50095811,\n",
              "        0.50106642, 0.50106675, 0.50111528, 0.50109433, 0.50101316,\n",
              "        0.50107981, 0.50110116, 0.50097905, 0.50110167, 0.50110261,\n",
              "        0.50116427, 0.5010618 , 0.50109686, 0.50105457, 0.50101273,\n",
              "        0.50101908, 0.5011688 , 0.50102411, 0.50109284, 0.50103935,\n",
              "        0.50103491, 0.50105688, 0.50103126, 0.50117545, 0.50114362,\n",
              "        0.50108129, 0.50095621, 0.50104426, 0.50096067, 0.50113131,\n",
              "        0.50114204, 0.50122915, 0.50106191, 0.5010582 , 0.50104993,\n",
              "        0.50104168, 0.50100672, 0.50111968, 0.50111372, 0.50102344,\n",
              "        0.50107778, 0.5011849 , 0.50121574, 0.5010889 , 0.50112459,\n",
              "        0.50114797, 0.50113572, 0.50112342, 0.50111805, 0.50097889,\n",
              "        0.50105134, 0.50102005, 0.50093296, 0.50113171, 0.50117565,\n",
              "        0.5010953 , 0.50098291, 0.5010571 , 0.5010679 , 0.50103833,\n",
              "        0.50113666, 0.50101938, 0.5010597 , 0.5012281 , 0.50100325,\n",
              "        0.50096068, 0.5011567 , 0.50106793, 0.50092115, 0.50120925,\n",
              "        0.50108287, 0.50113988, 0.50120171, 0.50097907, 0.50098011,\n",
              "        0.50116801, 0.50121589, 0.50109379, 0.50114057, 0.50104135,\n",
              "        0.50111349, 0.50111454, 0.50100486, 0.50121761, 0.50110733,\n",
              "        0.50113258, 0.50108072, 0.50115927, 0.50099187, 0.50110143,\n",
              "        0.50094825, 0.50116367, 0.50111319, 0.50100084, 0.50102247,\n",
              "        0.5011671 , 0.50103272, 0.50102808, 0.50091595, 0.50104081,\n",
              "        0.50111921, 0.50108951, 0.50104076, 0.50106759, 0.50097134,\n",
              "        0.50114551, 0.50106373, 0.50083595, 0.50096508, 0.50101908,\n",
              "        0.50083461, 0.50106635, 0.50112446, 0.50110341, 0.5010314 ,\n",
              "        0.50092319, 0.50119912, 0.50103614, 0.50105685, 0.50082963,\n",
              "        0.50105978, 0.5012492 , 0.50088961, 0.50091424, 0.50113255,\n",
              "        0.50113648, 0.50110788, 0.50098345, 0.5011048 , 0.50113448,\n",
              "        0.50110407, 0.50112489, 0.50104251, 0.50095941, 0.50106483,\n",
              "        0.50110861, 0.50103743, 0.50108153, 0.50099084, 0.50104427,\n",
              "        0.50099429, 0.50103054, 0.50113479, 0.5010164 , 0.50108581,\n",
              "        0.50101922, 0.50104913, 0.50099064, 0.50097847, 0.50123532,\n",
              "        0.50110988, 0.50098184, 0.50099146, 0.50094954, 0.50109252,\n",
              "        0.50123425, 0.50111559, 0.50106715, 0.50112766, 0.50106387,\n",
              "        0.50107145, 0.50101784, 0.50105969, 0.50120287, 0.50117673,\n",
              "        0.5010343 , 0.50104625, 0.5010284 , 0.50091551, 0.50098295,\n",
              "        0.5009354 , 0.50108065, 0.50109712, 0.50114254, 0.50117054,\n",
              "        0.50091071, 0.50109735, 0.50107433, 0.5010836 , 0.50118539,\n",
              "        0.50090699, 0.50121238, 0.50118566, 0.50114046, 0.50116465,\n",
              "        0.5010591 , 0.5009388 , 0.50102704, 0.50108598, 0.5011296 ,\n",
              "        0.50103182, 0.501077  , 0.50109723, 0.50115182, 0.500958  ,\n",
              "        0.50114197, 0.50102378, 0.50109048, 0.50108952, 0.50104977,\n",
              "        0.50095861, 0.50104552, 0.50117535, 0.50102323, 0.50118619,\n",
              "        0.5011471 , 0.50112871, 0.50107588, 0.50128425, 0.50105005,\n",
              "        0.5009241 , 0.50112778, 0.50086475, 0.50103749, 0.50104919,\n",
              "        0.50119227, 0.50090106, 0.5011905 , 0.50104822, 0.50104006,\n",
              "        0.50114568, 0.50109013, 0.50113483, 0.50106051, 0.50079543,\n",
              "        0.50116382, 0.50120317, 0.50096149, 0.50103544, 0.50109793,\n",
              "        0.50122226, 0.50109029, 0.50118909, 0.50102865, 0.50112683,\n",
              "        0.50111216, 0.50108435, 0.50101407, 0.50105477, 0.50108001,\n",
              "        0.50122861, 0.50122958, 0.50113501, 0.50114171, 0.50106542,\n",
              "        0.50107548, 0.50110698, 0.50112768, 0.50125293, 0.50100983,\n",
              "        0.50103619, 0.50111445, 0.50107919, 0.50112351, 0.50113969]])"
            ]
          },
          "metadata": {},
          "execution_count": 22
        }
      ]
    }
  ]
}