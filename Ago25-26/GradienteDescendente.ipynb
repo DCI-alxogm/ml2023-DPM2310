{
  "nbformat": 4,
  "nbformat_minor": 0,
  "metadata": {
    "colab": {
      "provenance": [],
      "authorship_tag": "ABX9TyPrP3ypYBZjz/v6W8p7RnY+",
      "include_colab_link": true
    },
    "kernelspec": {
      "name": "python3",
      "display_name": "Python 3"
    },
    "language_info": {
      "name": "python"
    }
  },
  "cells": [
    {
      "cell_type": "markdown",
      "metadata": {
        "id": "view-in-github",
        "colab_type": "text"
      },
      "source": [
        "<a href=\"https://colab.research.google.com/github/DCI-alxogm/ml2023-DPM2310/blob/main/Ago25-26/GradienteDescendente.ipynb\" target=\"_parent\"><img src=\"https://colab.research.google.com/assets/colab-badge.svg\" alt=\"Open In Colab\"/></a>"
      ]
    },
    {
      "cell_type": "markdown",
      "source": [
        "\n",
        "\n",
        "1.   En otro cuaderno implementar el método del gradiente descendiente y aplicarlo a los datos de los 100 metros.\n",
        "2.   Extra: Aplicar todo lo visto en clase al conjunto de datos que elegiste en una tarea anterior\n",
        "\n"
      ],
      "metadata": {
        "id": "xhPQh6Ge4qBX"
      }
    },
    {
      "cell_type": "markdown",
      "source": [
        "# **Metodo del Gradiente Descendente**"
      ],
      "metadata": {
        "id": "K-pD5oBHnXRw"
      }
    },
    {
      "cell_type": "markdown",
      "source": [
        "Buscamos minimizar la funcion costo como funcion de $w$:\n",
        "\n",
        "\n",
        "$$L=\\frac{1}{2N} \\sum_i(f(x_i;w)-t_i)^2=\\frac{1}{2N}w^TX^TXw-2w^TX^Tt+t^Tt$$\n",
        "\n",
        "Para encontrar los pesos necesitamos calcular:\n",
        "\n",
        "\\begin{eqnarray}   \n",
        "w_0=w_{0,0}-α\\frac{∂L}{∂w_0} \\\\\n",
        "w_1=w_{1,0}-α\\frac{∂L}{∂w_0} \\\\\n",
        "w_n=w_{n,0}-α\\frac{∂L}{∂w_0}\n",
        "\\end{eqnarray}\n",
        "\n",
        "Buscamos primero el gradiente de la funcion costo:\n",
        "\n",
        "$$\\frac{∂L}{∂w}=\\frac{1}{N}X^TXw-\\frac{1}{N}X^Tt$$\n"
      ],
      "metadata": {
        "id": "knAMj8HxngQO"
      }
    },
    {
      "cell_type": "code",
      "execution_count": 4,
      "metadata": {
        "id": "YHu8KXs0m4pz"
      },
      "outputs": [],
      "source": [
        "import numpy as np\n",
        "import matplotlib.pyplot as plt"
      ]
    },
    {
      "cell_type": "code",
      "source": [
        "# Importamos nuestro dataset desde Drive\n",
        "from google.colab import drive\n",
        "drive.mount('/content/drive')\n",
        "file =\"/content/drive/MyDrive/Data/olympic100m_men.txt\"\n",
        "\n",
        "data=np.loadtxt(file,delimiter=\",\").T"
      ],
      "metadata": {
        "colab": {
          "base_uri": "https://localhost:8080/"
        },
        "id": "AQ-iF0EN0fSr",
        "outputId": "d3bea1a2-900e-4bc0-9192-7fc8242fe03e"
      },
      "execution_count": 5,
      "outputs": [
        {
          "output_type": "stream",
          "name": "stdout",
          "text": [
            "Drive already mounted at /content/drive; to attempt to forcibly remount, call drive.mount(\"/content/drive\", force_remount=True).\n"
          ]
        }
      ]
    },
    {
      "cell_type": "code",
      "source": [
        "# Creamos la funcion para el metodo Gradiente Descendente\n",
        "def gradient_descent(x, y, iterations, learning_rate, tolerance, degree=1):\n",
        "\n",
        "  datax = [x**(i) for i in range(degree+1)]\n",
        "  # Definimos X y w\n",
        "  X = np.vstack(datax).T\n",
        "  w = np.random.uniform(-10.0, 10.0, size=degree+1)\n",
        "\n",
        "  # Calculamos el gradiente de la funcion costo\n",
        "  for i in range (iterations):\n",
        "\n",
        "    gradient = 1/(len(x))*(X.T @ X @ w)-1/(len(x))*X.T @ y\n",
        "\n",
        "    if np.all(np.abs(learning_rate*gradient) < tolerance):\n",
        "\n",
        "      print(f'Converge en {i} iteraciones')\n",
        "      break\n",
        "    # Actualizamos los pesos w\n",
        "    w = w-learning_rate*gradient\n",
        "\n",
        "  return w"
      ],
      "metadata": {
        "id": "AJlL-GNYtomJ"
      },
      "execution_count": 18,
      "outputs": []
    },
    {
      "cell_type": "code",
      "source": [
        "# Realizamos una prueba del metodo\n",
        "\n",
        "x = data[0]\n",
        "x_norm = (x-1896)/4\n",
        "x_aux = np.linspace(np.min(x_norm), np.max(x_norm), 2500)\n",
        "y = data[1]\n",
        "\n",
        "w = gradient_descent(x_norm, y, 100000, 0.0005, 1e-5, 1)\n",
        "\n",
        "w"
      ],
      "metadata": {
        "colab": {
          "base_uri": "https://localhost:8080/"
        },
        "id": "3wL_KNE00clQ",
        "outputId": "98ecb7d5-9b2f-4e23-afc2-48f66980ceba"
      },
      "execution_count": 23,
      "outputs": [
        {
          "output_type": "stream",
          "name": "stdout",
          "text": [
            "Converge en 23761 iteraciones\n"
          ]
        },
        {
          "output_type": "execute_result",
          "data": {
            "text/plain": [
              "array([11.069055 , -0.0496306])"
            ]
          },
          "metadata": {},
          "execution_count": 23
        }
      ]
    },
    {
      "cell_type": "code",
      "source": [
        "# Graficamos el ajuste\n",
        "def poly(x, weights):\n",
        "  y_p = 0\n",
        "  for i in range(len(weights)):\n",
        "    y_p += weights[i]*x**(i)\n",
        "\n",
        "  return y_p\n",
        "\n",
        "ig = plt.figure(figsize=(7,6))\n",
        "plt.scatter(x_norm, y, s=10, color='Green')\n",
        "degree = 8\n",
        "\n",
        "plt.plot(x_aux, poly(x_aux, w))\n",
        "\n",
        "plt.xlabel('Olympic Year [Normalized]', fontsize=14)\n",
        "plt.ylabel('Winner Timer', fontsize=14);\n"
      ],
      "metadata": {
        "colab": {
          "base_uri": "https://localhost:8080/",
          "height": 547
        },
        "id": "pvcL5zVZ1-yz",
        "outputId": "a845817f-95b4-4d8e-e6ec-2761ecf011a3"
      },
      "execution_count": 26,
      "outputs": [
        {
          "output_type": "display_data",
          "data": {
            "text/plain": [
              "<Figure size 700x600 with 1 Axes>"
            ],
            "image/png": "[encoded data removed]"
          },
          "metadata": {}
        }
      ]
    }
  ]
}