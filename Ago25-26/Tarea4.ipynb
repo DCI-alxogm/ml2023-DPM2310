{
  "nbformat": 4,
  "nbformat_minor": 0,
  "metadata": {
    "colab": {
      "provenance": [],
      "authorship_tag": "ABX9TyNABVkPQvqEdQs2+XuO7jgW",
      "include_colab_link": true
    },
    "kernelspec": {
      "name": "python3",
      "display_name": "Python 3"
    },
    "language_info": {
      "name": "python"
    }
  },
  "cells": [
    {
      "cell_type": "markdown",
      "metadata": {
        "id": "view-in-github",
        "colab_type": "text"
      },
      "source": [
        "<a href=\"https://colab.research.google.com/github/DCI-alxogm/ml2023-DPM2310/blob/main/Ago25-26/Tarea4.ipynb\" target=\"_parent\"><img src=\"https://colab.research.google.com/assets/colab-badge.svg\" alt=\"Open In Colab\"/></a>"
      ]
    },
    {
      "cell_type": "markdown",
      "source": [
        "En un cuaderno terminar la implementación de mínimos cuadrados regularizado y el método de cross validación para selección de modelos.\n",
        "En otro cuaderno implementar el método del gradiente descendiente y aplicarlo a los datos de los 100 metros.\n",
        "Extra: Aplicar todo lo visto en clase al conjunto de datos que elegiste en una tarea anterior"
      ],
      "metadata": {
        "id": "aUZaNLNENF3a"
      }
    },
    {
      "cell_type": "code",
      "execution_count": 1,
      "metadata": {
        "id": "iugEgtunNABg"
      },
      "outputs": [],
      "source": [
        "import numpy as np"
      ]
    }
  ]
}