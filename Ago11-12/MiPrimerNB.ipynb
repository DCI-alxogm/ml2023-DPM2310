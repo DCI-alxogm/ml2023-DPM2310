{
  "nbformat": 4,
  "nbformat_minor": 0,
  "metadata": {
    "colab": {
      "provenance": [],
      "authorship_tag": "ABX9TyNMSdL+EKt+G63I1pux6aPs",
      "include_colab_link": true
    },
    "kernelspec": {
      "name": "python3",
      "display_name": "Python 3"
    },
    "language_info": {
      "name": "python"
    }
  },
  "cells": [
    {
      "cell_type": "markdown",
      "metadata": {
        "id": "view-in-github",
        "colab_type": "text"
      },
      "source": [
        "<a href=\"https://colab.research.google.com/github/DCI-alxogm/ml2023-DPM2310/blob/main/Ago11-12/MiPrimerNB.ipynb\" target=\"_parent\"><img src=\"https://colab.research.google.com/assets/colab-badge.svg\" alt=\"Open In Colab\"/></a>"
      ]
    },
    {
      "cell_type": "markdown",
      "source": [
        "# Listas\n"
      ],
      "metadata": {
        "id": "YYwW7giLv3SA"
      }
    },
    {
      "cell_type": "code",
      "execution_count": 36,
      "metadata": {
        "id": "Uhc7VXJ3Nscq"
      },
      "outputs": [],
      "source": [
        "#Una lista puede contener multiples tipos de datos\n",
        "lista1 = [2,\"2\",\"dos\",2.0]"
      ]
    },
    {
      "cell_type": "code",
      "source": [
        "#Al multiplicar una lista por un entero se coppian y agregan a la lsita los elementos antes existentes en ella\n",
        "lista1*2"
      ],
      "metadata": {
        "colab": {
          "base_uri": "https://localhost:8080/"
        },
        "id": "ryC9alZKwBrY",
        "outputId": "73d091a7-494f-499d-a462-ab7546ce8b7c"
      },
      "execution_count": 37,
      "outputs": [
        {
          "output_type": "execute_result",
          "data": {
            "text/plain": [
              "[2, '2', 'dos', 2.0, 2, '2', 'dos', 2.0]"
            ]
          },
          "metadata": {},
          "execution_count": 37
        }
      ]
    },
    {
      "cell_type": "code",
      "source": [
        "#.append nos permite adjuntar elementos a la lista\n",
        "lista1.append(9)\n",
        "lista1"
      ],
      "metadata": {
        "colab": {
          "base_uri": "https://localhost:8080/"
        },
        "id": "fl45otUYxVIB",
        "outputId": "3e78fd4f-23c6-4e0c-e4d7-2ad6878e3599"
      },
      "execution_count": 43,
      "outputs": [
        {
          "output_type": "execute_result",
          "data": {
            "text/plain": [
              "[2, '2', 2.0, 9, 9]"
            ]
          },
          "metadata": {},
          "execution_count": 43
        }
      ]
    },
    {
      "cell_type": "code",
      "source": [
        "#.remove nos permite eliminar algun termino deseado de la lista\n",
        "lista1.remove(9)\n",
        "lista1"
      ],
      "metadata": {
        "colab": {
          "base_uri": "https://localhost:8080/"
        },
        "id": "p0JRy1Y5xkBg",
        "outputId": "b3ee6747-3358-4a2f-d446-bbbaa6822b4b"
      },
      "execution_count": 45,
      "outputs": [
        {
          "output_type": "execute_result",
          "data": {
            "text/plain": [
              "[2, '2', 2.0, 9]"
            ]
          },
          "metadata": {},
          "execution_count": 45
        }
      ]
    },
    {
      "cell_type": "code",
      "source": [
        "#del nos permite eliminar el elemento seleccionado a base de su posicion\n",
        "del lista1[2]\n",
        "lista1"
      ],
      "metadata": {
        "colab": {
          "base_uri": "https://localhost:8080/"
        },
        "id": "OvnfVuIHxkC0",
        "outputId": "d511ffe7-63f7-4de3-e00a-83226b60bf98"
      },
      "execution_count": 40,
      "outputs": [
        {
          "output_type": "execute_result",
          "data": {
            "text/plain": [
              "[2, '2', 2.0, 9]"
            ]
          },
          "metadata": {},
          "execution_count": 40
        }
      ]
    },
    {
      "cell_type": "code",
      "source": [
        "#De esta forma eliminamos desde el elemnto 0 hasta : n\n",
        "del lista1[0:2]\n",
        "lista1"
      ],
      "metadata": {
        "colab": {
          "base_uri": "https://localhost:8080/"
        },
        "id": "pU-vJYAvyX9r",
        "outputId": "30403e53-5e2f-4c09-ec2b-ac6d1a507281"
      },
      "execution_count": 48,
      "outputs": [
        {
          "output_type": "execute_result",
          "data": {
            "text/plain": [
              "[]"
            ]
          },
          "metadata": {},
          "execution_count": 48
        }
      ]
    },
    {
      "cell_type": "code",
      "source": [
        "#.insert nos permite añadir elementos a la lista dada la posicion en la que lo queremos\n",
        "lista1.insert(3,'dos')\n",
        "lista1"
      ],
      "metadata": {
        "colab": {
          "base_uri": "https://localhost:8080/"
        },
        "id": "Tw2Ylt73yu5f",
        "outputId": "e267e3fd-32ff-46dd-c3c5-4a55e873a662"
      },
      "execution_count": 55,
      "outputs": [
        {
          "output_type": "execute_result",
          "data": {
            "text/plain": [
              "['tres', 'dos', 'tres', 'dos', 'tres']"
            ]
          },
          "metadata": {},
          "execution_count": 55
        }
      ]
    },
    {
      "cell_type": "code",
      "source": [
        "lista2 = [4,\"cuatro\",\"4\"]"
      ],
      "metadata": {
        "id": "7yt6BNeEzK4L"
      },
      "execution_count": 56,
      "outputs": []
    },
    {
      "cell_type": "code",
      "source": [
        "#Podemos definir listas de listas, listas anidadas\n",
        "lista3 = [lista1,lista2]\n",
        "lista3"
      ],
      "metadata": {
        "colab": {
          "base_uri": "https://localhost:8080/"
        },
        "id": "-vaQGmnOzVW7",
        "outputId": "6bb5cd52-dae7-4e07-acdb-40c135a74db6"
      },
      "execution_count": 57,
      "outputs": [
        {
          "output_type": "execute_result",
          "data": {
            "text/plain": [
              "[['tres', 'dos', 'tres', 'dos', 'tres'], [4, 'cuatro', '4']]"
            ]
          },
          "metadata": {},
          "execution_count": 57
        }
      ]
    },
    {
      "cell_type": "code",
      "source": [
        "#Podemos mostrar los elementos de una lista de multiples formas\n",
        "for i in lista2:\n",
        "  print(i)"
      ],
      "metadata": {
        "colab": {
          "base_uri": "https://localhost:8080/"
        },
        "id": "0o47Q8Luzecp",
        "outputId": "a517eaec-d7f3-48f7-8083-eb567d7ba079"
      },
      "execution_count": 58,
      "outputs": [
        {
          "output_type": "stream",
          "name": "stdout",
          "text": [
            "4\n",
            "cuatro\n",
            "4\n"
          ]
        }
      ]
    },
    {
      "cell_type": "code",
      "source": [
        "for i in range(len(lista1)):\n",
        "  print(i,lista1[i])"
      ],
      "metadata": {
        "colab": {
          "base_uri": "https://localhost:8080/"
        },
        "id": "rDv1gQuEzqH0",
        "outputId": "699d57cd-f868-4f29-afed-241eaa11f48d"
      },
      "execution_count": 59,
      "outputs": [
        {
          "output_type": "stream",
          "name": "stdout",
          "text": [
            "0 tres\n",
            "1 dos\n",
            "2 tres\n",
            "3 dos\n",
            "4 tres\n"
          ]
        }
      ]
    },
    {
      "cell_type": "code",
      "source": [
        "for i, item in enumerate(lista1):\n",
        "  print(i,item)"
      ],
      "metadata": {
        "colab": {
          "base_uri": "https://localhost:8080/"
        },
        "id": "zve2rfw5z1d5",
        "outputId": "9793cc3e-7d09-4c4b-b65c-845238c1fb4d"
      },
      "execution_count": 61,
      "outputs": [
        {
          "output_type": "stream",
          "name": "stdout",
          "text": [
            "0 tres\n",
            "1 dos\n",
            "2 tres\n",
            "3 dos\n",
            "4 tres\n"
          ]
        }
      ]
    },
    {
      "cell_type": "markdown",
      "source": [
        "# Tuplas"
      ],
      "metadata": {
        "id": "PAec5CaV0d96"
      }
    },
    {
      "cell_type": "code",
      "source": [
        "#Una tupla en python se crea con parentesis normales, sus elementos son inmutables a diferencia de los de una lusta\n",
        "lista4 = (2,\"2\",\"dos\",2.0)\n",
        "type(lista4)"
      ],
      "metadata": {
        "colab": {
          "base_uri": "https://localhost:8080/"
        },
        "id": "M6uNDlJo0CV_",
        "outputId": "57f9004a-aa63-4b09-94de-d053b6b7b5e2"
      },
      "execution_count": 64,
      "outputs": [
        {
          "output_type": "execute_result",
          "data": {
            "text/plain": [
              "tuple"
            ]
          },
          "metadata": {},
          "execution_count": 64
        }
      ]
    },
    {
      "cell_type": "markdown",
      "source": [
        "# Arreglos"
      ],
      "metadata": {
        "id": "xJretYnP0tYe"
      }
    },
    {
      "cell_type": "code",
      "source": [
        "import array as arr"
      ],
      "metadata": {
        "id": "rIelT8Z90q3h"
      },
      "execution_count": 67,
      "outputs": []
    },
    {
      "cell_type": "code",
      "source": [
        "#Definimos un arreglo indicamdo el tipo de datos que contendra\n",
        "arreglo = arr.array(\"i\",[1,2,3])\n",
        "arreglo"
      ],
      "metadata": {
        "colab": {
          "base_uri": "https://localhost:8080/"
        },
        "id": "MOMN2s8Z028n",
        "outputId": "76d61f69-d79f-42d9-e99a-824292719a87"
      },
      "execution_count": 68,
      "outputs": [
        {
          "output_type": "execute_result",
          "data": {
            "text/plain": [
              "array('i', [1, 2, 3])"
            ]
          },
          "metadata": {},
          "execution_count": 68
        }
      ]
    },
    {
      "cell_type": "code",
      "source": [
        "arreglo*arreglo"
      ],
      "metadata": {
        "colab": {
          "base_uri": "https://localhost:8080/",
          "height": 176
        },
        "id": "I3Gadath3Hkh",
        "outputId": "35f47c5c-ea3a-4bf0-ec08-87e349854efa"
      },
      "execution_count": 69,
      "outputs": [
        {
          "output_type": "error",
          "ename": "TypeError",
          "evalue": "ignored",
          "traceback": [
            "\u001b[0;31m---------------------------------------------------------------------------\u001b[0m",
            "\u001b[0;31mTypeError\u001b[0m                                 Traceback (most recent call last)",
            "\u001b[0;32m<ipython-input-69-994f0801bf65>\u001b[0m in \u001b[0;36m<cell line: 1>\u001b[0;34m()\u001b[0m\n\u001b[0;32m----> 1\u001b[0;31m \u001b[0marreglo\u001b[0m\u001b[0;34m*\u001b[0m\u001b[0marreglo\u001b[0m\u001b[0;34m\u001b[0m\u001b[0;34m\u001b[0m\u001b[0m\n\u001b[0m",
            "\u001b[0;31mTypeError\u001b[0m: can't multiply sequence by non-int of type 'array.array'"
          ]
        }
      ]
    },
    {
      "cell_type": "code",
      "source": [
        "#la libreria numpy nos permite hacer operaciones con arreglos\n",
        "import numpy as np"
      ],
      "metadata": {
        "id": "TOreomKV3Nrz"
      },
      "execution_count": 70,
      "outputs": []
    },
    {
      "cell_type": "code",
      "source": [
        "nparr = np.array([1,2,3])"
      ],
      "metadata": {
        "id": "P6UsoiF43W36"
      },
      "execution_count": 71,
      "outputs": []
    },
    {
      "cell_type": "code",
      "source": [
        "nparr*nparr"
      ],
      "metadata": {
        "colab": {
          "base_uri": "https://localhost:8080/"
        },
        "id": "aRGEDshp3XpP",
        "outputId": "77c5c599-267b-4f09-a7c6-948bfd127044"
      },
      "execution_count": 72,
      "outputs": [
        {
          "output_type": "execute_result",
          "data": {
            "text/plain": [
              "array([1, 4, 9])"
            ]
          },
          "metadata": {},
          "execution_count": 72
        }
      ]
    },
    {
      "cell_type": "code",
      "source": [
        "nparr/nparr"
      ],
      "metadata": {
        "colab": {
          "base_uri": "https://localhost:8080/"
        },
        "id": "4Tz6Qm7R38Ws",
        "outputId": "d89bcd79-bec9-4e0a-85e7-611bb6645b1e"
      },
      "execution_count": 73,
      "outputs": [
        {
          "output_type": "execute_result",
          "data": {
            "text/plain": [
              "array([1., 1., 1.])"
            ]
          },
          "metadata": {},
          "execution_count": 73
        }
      ]
    }
  ]
}