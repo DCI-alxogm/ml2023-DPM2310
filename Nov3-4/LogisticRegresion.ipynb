{
  "cells": [
    {
      "cell_type": "markdown",
      "metadata": {
        "id": "view-in-github",
        "colab_type": "text"
      },
      "source": [
        "<a href=\"https://colab.research.google.com/github/DCI-alxogm/ml2023-DPM2310/blob/main/Nov3-4/LogisticRegresion.ipynb\" target=\"_parent\"><img src=\"https://colab.research.google.com/assets/colab-badge.svg\" alt=\"Open In Colab\"/></a>"
      ]
    },
    {
      "cell_type": "markdown",
      "metadata": {
        "id": "7L9B6oZqGuc6"
      },
      "source": [
        "# **Logistic Regresion**"
      ]
    },
    {
      "cell_type": "code",
      "execution_count": null,
      "metadata": {
        "id": "dPqy_4e-FPUL"
      },
      "outputs": [],
      "source": [
        "import glob\n",
        "import numpy as np\n",
        "import copy\n",
        "import matplotlib.pyplot as plt\n",
        "import h5py\n",
        "import scipy\n",
        "from PIL import Image\n",
        "from scipy import ndimage\n",
        "\n",
        "%matplotlib inline"
      ]
    },
    {
      "cell_type": "code",
      "execution_count": null,
      "metadata": {
        "colab": {
          "base_uri": "https://localhost:8080/"
        },
        "id": "oAU_l2uiFXbY",
        "outputId": "467e3c7b-05ba-4f7b-aa99-434e4156246d"
      },
      "outputs": [
        {
          "output_type": "stream",
          "name": "stdout",
          "text": [
            "Drive already mounted at /content/drive; to attempt to forcibly remount, call drive.mount(\"/content/drive\", force_remount=True).\n"
          ]
        }
      ],
      "source": [
        "from google.colab import drive\n",
        "drive.mount('/content/drive')"
      ]
    },
    {
      "cell_type": "markdown",
      "metadata": {
        "id": "LIaDqM93Gtqt"
      },
      "source": [
        "Cargamos los datos que vamos a trabajar."
      ]
    },
    {
      "cell_type": "code",
      "execution_count": null,
      "metadata": {
        "id": "HOoeRorxFj_z"
      },
      "outputs": [],
      "source": [
        "#Los datos corresponden a un subset del dataset cats vs dogs de https://www.kaggle.com/c/dogs-vs-cats\n",
        "files = glob.glob('/content/drive/MyDrive/Machine Learning/Data/CATS_DOGS/*')"
      ]
    },
    {
      "cell_type": "code",
      "execution_count": null,
      "metadata": {
        "colab": {
          "base_uri": "https://localhost:8080/"
        },
        "id": "5dFQodQfOE04",
        "outputId": "1037f44a-0486-4afd-aa42-5b3bacd0225a"
      },
      "outputs": [
        {
          "output_type": "execute_result",
          "data": {
            "text/plain": [
              "1787"
            ]
          },
          "metadata": {},
          "execution_count": 37
        }
      ],
      "source": [
        "len(files)"
      ]
    },
    {
      "cell_type": "code",
      "execution_count": null,
      "metadata": {
        "id": "TuaSXEn2OSx7"
      },
      "outputs": [],
      "source": [
        "# Numero de pixeles para nuestras imágenes.\n",
        "num_px=64"
      ]
    },
    {
      "cell_type": "markdown",
      "metadata": {
        "id": "8BuP583tOlPx"
      },
      "source": [
        "Veamos algunas de las imagenes.\n",
        "\n",
        "Preparamos el dataset de entrenamiento."
      ]
    },
    {
      "cell_type": "code",
      "execution_count": null,
      "metadata": {
        "id": "ODxn6gZqOhDg"
      },
      "outputs": [],
      "source": [
        "train_x = []\n",
        "train_y = []\n",
        "for file in files[:835]:\n",
        "    img = Image.open(file)\n",
        "    img = img.resize((num_px,num_px))\n",
        "    data = np.asarray(img)\n",
        "    train_x.append(data)\n",
        "    img.close()\n",
        "    if 'dog' in file:\n",
        "        train_y.append(1)\n",
        "    if 'cat' in file:\n",
        "        train_y.append(0)\n",
        "train_y = np.asarray(train_y)\n",
        "train_x = np.asarray(train_x)"
      ]
    },
    {
      "cell_type": "code",
      "execution_count": null,
      "metadata": {
        "colab": {
          "base_uri": "https://localhost:8080/",
          "height": 449
        },
        "id": "Q-IwweixOry-",
        "outputId": "cc0b45ab-048b-4524-89dd-ccd2e36735d8"
      },
      "outputs": [
        {
          "output_type": "execute_result",
          "data": {
            "text/plain": [
              "<matplotlib.image.AxesImage at 0x7e1704ccd600>"
            ]
          },
          "metadata": {},
          "execution_count": 40
        },
        {
          "output_type": "display_data",
          "data": {
            "text/plain": [
              "<Figure size 640x480 with 1 Axes>"
            ],
            "image/png": "[encoded data removed]"
          },
          "metadata": {}
        }
      ],
      "source": [
        "plt.imshow(train_x[0])"
      ]
    },
    {
      "cell_type": "markdown",
      "metadata": {
        "id": "q-81VsLfO74G"
      },
      "source": [
        "Preparamos el dataset de prueba."
      ]
    },
    {
      "cell_type": "code",
      "execution_count": null,
      "metadata": {
        "id": "dFHDJEaCO40S"
      },
      "outputs": [],
      "source": [
        "test_x = []\n",
        "test_y = []\n",
        "for file in files[835:]:\n",
        "    #print(file)\n",
        "    img = Image.open(file)\n",
        "    img = img.resize((num_px,num_px))\n",
        "    data = np.asarray(img)\n",
        "    test_x.append(data)\n",
        "    img.close()\n",
        "    if 'dog' in file:\n",
        "        test_y.append(1)\n",
        "    if 'cat' in file:\n",
        "        test_y.append(0)\n",
        "test_y = np.asarray(test_y)\n",
        "test_x = np.asarray(test_x)"
      ]
    },
    {
      "cell_type": "code",
      "execution_count": null,
      "metadata": {
        "colab": {
          "base_uri": "https://localhost:8080/",
          "height": 449
        },
        "id": "WLMnzy3DO_n6",
        "outputId": "e1b4e06f-7e64-4175-b545-1bef002894e1"
      },
      "outputs": [
        {
          "output_type": "execute_result",
          "data": {
            "text/plain": [
              "<matplotlib.image.AxesImage at 0x7e1704bd09d0>"
            ]
          },
          "metadata": {},
          "execution_count": 42
        },
        {
          "output_type": "display_data",
          "data": {
            "text/plain": [
              "<Figure size 640x480 with 1 Axes>"
            ],
            "image/png": "[encoded data removed]"
          },
          "metadata": {}
        }
      ],
      "source": [
        "plt.imshow(test_x[1])"
      ]
    },
    {
      "cell_type": "markdown",
      "source": [
        "Hacemos una transformación de los arreglos que contienen las imagenes para que sean arreglos de una dimensión."
      ],
      "metadata": {
        "id": "ST0CMalaRcc-"
      }
    },
    {
      "cell_type": "code",
      "source": [
        "train_x_flatten = train_x.reshape(train_x.shape[0], -1).T\n",
        "\n",
        "test_x_flatten = test_x.reshape(test_x.shape[0], -1).T\n",
        "\n",
        "train_set_y=train_y.reshape((1,train_y.shape[0]))\n",
        "test_set_y=test_y.reshape((1,test_y.shape[0]))"
      ],
      "metadata": {
        "id": "Uuoj_-RrRYYd"
      },
      "execution_count": null,
      "outputs": []
    },
    {
      "cell_type": "markdown",
      "source": [
        "Normalizamos las imágenes."
      ],
      "metadata": {
        "id": "Rh81jy76RhaM"
      }
    },
    {
      "cell_type": "code",
      "source": [
        "train_set_x= train_x_flatten/255\n",
        "test_set_x= test_x_flatten/255"
      ],
      "metadata": {
        "id": "HczmXKWnRfuF"
      },
      "execution_count": null,
      "outputs": []
    },
    {
      "cell_type": "markdown",
      "source": [
        "Ya esta listo nuestro set de datos para poder trabajar con el."
      ],
      "metadata": {
        "id": "wIUIwHgtRoX-"
      }
    },
    {
      "cell_type": "code",
      "source": [
        "# Implementamos el algoritmo de la regresión logística:\n",
        "\n",
        "# Definimos la función de activación, para este caso sigmoide\n",
        "def sigmoid(x):\n",
        "    return 1 / (1 + np.exp(-x))\n",
        "\n",
        "def logistic_regression(X, y, learning_rate=0.01, num_iters=1000):\n",
        "    n_samples, n_features = X.shape\n",
        "\n",
        "    # Inicializamos los pesos y la salida del modelo\n",
        "    weights = np.zeros(n_features)\n",
        "    bias = 0\n",
        "\n",
        "    # Implementamos el algoritmo de Gradient Descent\n",
        "    for i in range(num_iters):\n",
        "        linear_model = np.dot(X, weights) + bias\n",
        "        y_predicted = sigmoid(linear_model)\n",
        "\n",
        "        dw = (1 / n_samples) * np.dot(X.T, (y - y_predicted))\n",
        "        db = (1 / n_samples) * np.sum(y - y_predicted)\n",
        "\n",
        "        weights -= learning_rate * dw\n",
        "        bias -= learning_rate * db\n",
        "\n",
        "    def predict_prob(X):\n",
        "        linear_model = np.dot(X, weights) + bias\n",
        "        return sigmoid(linear_model)\n",
        "\n",
        "    def predict(X, threshold=0.5):\n",
        "        y_predicted = predict_prob(X)\n",
        "        return [1 if i > threshold else 0 for i in y_predicted]\n",
        "\n",
        "    return predict, predict_prob\n",
        "\n",
        "# Ejemplo de uso\n",
        "predict, predict_prob = logistic_regression(train_x, train_y)"
      ],
      "metadata": {
        "colab": {
          "base_uri": "https://localhost:8080/",
          "height": 349
        },
        "id": "KnoI9kNTSJBI",
        "outputId": "2051c04d-1d2a-4002-9222-b2f0514092bb"
      },
      "execution_count": null,
      "outputs": [
        {
          "output_type": "error",
          "ename": "ValueError",
          "evalue": "ignored",
          "traceback": [
            "\u001b[0;31m---------------------------------------------------------------------------\u001b[0m",
            "\u001b[0;31mValueError\u001b[0m                                Traceback (most recent call last)",
            "\u001b[0;32m<ipython-input-47-542519a9cc69>\u001b[0m in \u001b[0;36m<cell line: 36>\u001b[0;34m()\u001b[0m\n\u001b[1;32m     34\u001b[0m \u001b[0;34m\u001b[0m\u001b[0m\n\u001b[1;32m     35\u001b[0m \u001b[0;31m# Ejemplo de uso\u001b[0m\u001b[0;34m\u001b[0m\u001b[0;34m\u001b[0m\u001b[0m\n\u001b[0;32m---> 36\u001b[0;31m \u001b[0mpredict\u001b[0m\u001b[0;34m,\u001b[0m \u001b[0mpredict_prob\u001b[0m \u001b[0;34m=\u001b[0m \u001b[0mlogistic_regression\u001b[0m\u001b[0;34m(\u001b[0m\u001b[0mtrain_x\u001b[0m\u001b[0;34m,\u001b[0m \u001b[0mtrain_y\u001b[0m\u001b[0;34m)\u001b[0m\u001b[0;34m\u001b[0m\u001b[0;34m\u001b[0m\u001b[0m\n\u001b[0m",
            "\u001b[0;32m<ipython-input-47-542519a9cc69>\u001b[0m in \u001b[0;36mlogistic_regression\u001b[0;34m(X, y, learning_rate, num_iters)\u001b[0m\n\u001b[1;32m      6\u001b[0m \u001b[0;34m\u001b[0m\u001b[0m\n\u001b[1;32m      7\u001b[0m \u001b[0;32mdef\u001b[0m \u001b[0mlogistic_regression\u001b[0m\u001b[0;34m(\u001b[0m\u001b[0mX\u001b[0m\u001b[0;34m,\u001b[0m \u001b[0my\u001b[0m\u001b[0;34m,\u001b[0m \u001b[0mlearning_rate\u001b[0m\u001b[0;34m=\u001b[0m\u001b[0;36m0.01\u001b[0m\u001b[0;34m,\u001b[0m \u001b[0mnum_iters\u001b[0m\u001b[0;34m=\u001b[0m\u001b[0;36m1000\u001b[0m\u001b[0;34m)\u001b[0m\u001b[0;34m:\u001b[0m\u001b[0;34m\u001b[0m\u001b[0;34m\u001b[0m\u001b[0m\n\u001b[0;32m----> 8\u001b[0;31m     \u001b[0mn_samples\u001b[0m\u001b[0;34m,\u001b[0m \u001b[0mn_features\u001b[0m \u001b[0;34m=\u001b[0m \u001b[0mX\u001b[0m\u001b[0;34m.\u001b[0m\u001b[0mshape\u001b[0m\u001b[0;34m\u001b[0m\u001b[0;34m\u001b[0m\u001b[0m\n\u001b[0m\u001b[1;32m      9\u001b[0m \u001b[0;34m\u001b[0m\u001b[0m\n\u001b[1;32m     10\u001b[0m     \u001b[0;31m# Inicializamos los pesos y la salida del modelo\u001b[0m\u001b[0;34m\u001b[0m\u001b[0;34m\u001b[0m\u001b[0m\n",
            "\u001b[0;31mValueError\u001b[0m: too many values to unpack (expected 2)"
          ]
        }
      ]
    }
  ],
  "metadata": {
    "colab": {
      "provenance": [],
      "authorship_tag": "ABX9TyMO90QoKG+0FOp/CUnkhCXx",
      "include_colab_link": true
    },
    "kernelspec": {
      "display_name": "Python 3",
      "name": "python3"
    },
    "language_info": {
      "name": "python"
    }
  },
  "nbformat": 4,
  "nbformat_minor": 0
}